{
  "nbformat": 4,
  "nbformat_minor": 0,
  "metadata": {
    "colab": {
      "provenance": []
    },
    "kernelspec": {
      "name": "python3",
      "display_name": "Python 3"
    },
    "language_info": {
      "name": "python"
    }
  },
  "cells": [
    {
      "cell_type": "code",
      "execution_count": 1,
      "metadata": {
        "id": "zvbgV3ZjnTmr",
        "colab": {
          "base_uri": "https://localhost:8080/"
        },
        "outputId": "477d62b9-07da-4b87-f546-91fe4bce6423"
      },
      "outputs": [
        {
          "output_type": "stream",
          "name": "stdout",
          "text": [
            "Requirement already satisfied: textblob in /usr/local/lib/python3.10/dist-packages (0.17.1)\n",
            "Requirement already satisfied: nltk>=3.1 in /usr/local/lib/python3.10/dist-packages (from textblob) (3.9.1)\n",
            "Requirement already satisfied: click in /usr/local/lib/python3.10/dist-packages (from nltk>=3.1->textblob) (8.1.7)\n",
            "Requirement already satisfied: joblib in /usr/local/lib/python3.10/dist-packages (from nltk>=3.1->textblob) (1.4.2)\n",
            "Requirement already satisfied: regex>=2021.8.3 in /usr/local/lib/python3.10/dist-packages (from nltk>=3.1->textblob) (2024.9.11)\n",
            "Requirement already satisfied: tqdm in /usr/local/lib/python3.10/dist-packages (from nltk>=3.1->textblob) (4.66.6)\n"
          ]
        }
      ],
      "source": [
        "!pip install textblob pandas"
      ]
    },
    {
      "cell_type": "code",
      "source": [
        "import pandas as pd\n",
        "from textblob import TextBlob\n",
        "\n",
        "# Load the CSV file containing the tweets\n",
        "df = pd.read_csv('/content/stock_tweets.csv')\n",
        "\n",
        "# Strip leading/trailing spaces from column names\n",
        "df.columns = df.columns.str.strip()\n",
        "\n",
        "# Check the column names to ensure you have the correct column name for the tweet text\n",
        "print(\"Columns in the dataset:\", df.columns)\n",
        "\n",
        "# Ensure the 'Tweet' column exists (this is the column with tweet text)\n",
        "if 'Tweet' not in df.columns:\n",
        "    print(\"Column 'Tweet' not found. Please check the dataset columns.\")\n",
        "else:\n",
        "    # Handle non-string values in the 'Tweet' column by replacing NaN or None with an empty string\n",
        "    df['Tweet'] = df['Tweet'].fillna(\"\").astype(str)\n",
        "\n",
        "    # Function to analyze sentiment of a text using TextBlob\n",
        "    def analyze_sentiment(text):\n",
        "        blob = TextBlob(text)\n",
        "        # Polarity: -1 to 1, Subjectivity: 0 to 1\n",
        "        return blob.sentiment.polarity, blob.sentiment.subjectivity\n",
        "\n",
        "    # Apply sentiment analysis to the 'Tweet' column and create new columns for polarity and subjectivity\n",
        "    df['polarity'], df['subjectivity'] = zip(*df['Tweet'].apply(analyze_sentiment))\n",
        "\n",
        "    # Function to classify sentiment based on polarity\n",
        "    def classify_sentiment(polarity):\n",
        "        if polarity > 0:\n",
        "            return 'Positive'\n",
        "        elif polarity < 0:\n",
        "            return 'Negative'\n",
        "        else:\n",
        "            return 'Neutral'\n",
        "\n",
        "    # Add a new column 'sentiment' based on polarity\n",
        "    df['sentiment'] = df['polarity'].apply(classify_sentiment)\n",
        "\n",
        "    # Display the first few rows to check the results\n",
        "    print(df.head(10)[['Tweet', 'polarity', 'subjectivity', 'sentiment']])\n",
        "\n",
        "    # Save the updated DataFrame with sentiment analysis to a new CSV file\n",
        "    df.to_csv('tweets_with_sentiment.csv', index=False)\n",
        "\n",
        "    print(\"Sentiment analysis completed and saved to 'tweets_with_sentiment.csv'\")\n"
      ],
      "metadata": {
        "colab": {
          "base_uri": "https://localhost:8080/"
        },
        "id": "qcplphb7c8Ju",
        "outputId": "ccd937cc-66f0-48a0-9f79-d0e2258307bd"
      },
      "execution_count": 3,
      "outputs": [
        {
          "output_type": "stream",
          "name": "stdout",
          "text": [
            "Columns in the dataset: Index(['Date', 'Tweet', 'Stock Name', 'Company Name'], dtype='object')\n",
            "                                               Tweet  polarity  subjectivity  \\\n",
            "0  Mainstream media has done an amazing job at br...  0.600000      0.900000   \n",
            "1  Tesla delivery estimates are at around 364k fr...  0.000000      0.000000   \n",
            "2  3/ Even if I include 63.0M unvested RSUs as of...  0.018182      0.277273   \n",
            "3  @RealDanODowd @WholeMarsBlog @Tesla Hahaha why...  0.079167      0.433333   \n",
            "4  @RealDanODowd @Tesla Stop trying to kill kids,... -0.200000      0.600000   \n",
            "5  @RealDanODowd @Tesla This is you https://t.co/...  0.000000      0.000000   \n",
            "6  For years @WholeMarsBlog viciously silenced @T... -0.375000      0.837500   \n",
            "7  $NIO just because I'm down money doesn't mean ...  0.051962      0.490234   \n",
            "8  50 likes for some $SPY $TSLA charts to study!\\...  0.000000      0.000000   \n",
            "9  @MrJames__321 @KellyRoofing @TeslaSolar @elonm... -0.700000      0.666667   \n",
            "\n",
            "  sentiment  \n",
            "0  Positive  \n",
            "1   Neutral  \n",
            "2  Positive  \n",
            "3  Positive  \n",
            "4  Negative  \n",
            "5   Neutral  \n",
            "6  Negative  \n",
            "7  Positive  \n",
            "8   Neutral  \n",
            "9  Negative  \n",
            "Sentiment analysis completed and saved to 'tweets_with_sentiment.csv'\n"
          ]
        }
      ]
    }
  ]
}